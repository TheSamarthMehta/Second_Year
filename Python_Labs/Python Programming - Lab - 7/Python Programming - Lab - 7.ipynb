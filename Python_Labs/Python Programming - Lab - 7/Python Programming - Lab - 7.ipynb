{
 "cells": [
  {
   "cell_type": "markdown",
   "metadata": {},
   "source": [
    "<a href='https://www.darshan.ac.in/'> <img src='https://www.darshan.ac.in/Content/media/DU_Logo.svg' width=\"250\" height=\"300\"/></a>\n",
    "<pre>\n",
    "<center><b><h1>Python Programming - 2301CS404</b></center>\n",
    "<center><b><h1>Lab - 7</b></center>    \n",
    "<pre>"
   ]
  },
  {
   "cell_type": "markdown",
   "metadata": {},
   "source": [
    "# Set & Dictionary"
   ]
  },
  {
   "cell_type": "markdown",
   "metadata": {},
   "source": [
    "### 01) WAP to iterate over a set."
   ]
  },
  {
   "cell_type": "code",
   "execution_count": 22,
   "metadata": {},
   "outputs": [
    {
     "name": "stdout",
     "output_type": "stream",
     "text": [
      "Iterating over the set:\n",
      "1\n",
      "2\n",
      "3\n",
      "4\n",
      "5\n"
     ]
    }
   ],
   "source": [
    "my_set = {1, 2, 3, 4, 5}\n",
    "print(\"Iterating over the set:\")\n",
    "for item in my_set:\n",
    "    print(item)"
   ]
  },
  {
   "cell_type": "markdown",
   "metadata": {},
   "source": [
    "### 02) WAP to convert set into list, string and tuple."
   ]
  },
  {
   "cell_type": "code",
   "execution_count": 25,
   "metadata": {},
   "outputs": [
    {
     "name": "stdout",
     "output_type": "stream",
     "text": [
      "Set Converted into List: [1, 2, 3, 4, 5]\n",
      "Set Converted into String: 12345\n",
      "Set Converted into Tuple: (1, 2, 3, 4, 5)\n"
     ]
    }
   ],
   "source": [
    "my_set = {1, 2, 3, 4, 5}\n",
    "\n",
    "my_list = list(my_set)\n",
    "print(f\"Set Converted into List: {my_list}\")\n",
    "\n",
    "my_string = ''.join(map(str, my_set))\n",
    "print(f\"Set Converted into String: {my_string}\")\n",
    "\n",
    "my_tuple = tuple(my_set)\n",
    "print(f\"Set Converted into Tuple: {my_tuple}\")"
   ]
  },
  {
   "cell_type": "markdown",
   "metadata": {},
   "source": [
    "### 03) WAP to find Maximum and Minimum from a set."
   ]
  },
  {
   "cell_type": "code",
   "execution_count": 27,
   "metadata": {},
   "outputs": [
    {
     "name": "stdout",
     "output_type": "stream",
     "text": [
      "Maximum value in the set: 50\n",
      "Minimum value in the set: 10\n"
     ]
    }
   ],
   "source": [
    "my_set = {10, 20, 30, 40, 50}\n",
    "max_value = max(my_set)\n",
    "min_value = min(my_set)\n",
    "print(\"Maximum value in the set:\", max_value)\n",
    "print(\"Minimum value in the set:\", min_value)"
   ]
  },
  {
   "cell_type": "markdown",
   "metadata": {},
   "source": [
    "### 04) WAP to perform union of two sets."
   ]
  },
  {
   "cell_type": "code",
   "execution_count": 28,
   "metadata": {},
   "outputs": [
    {
     "name": "stdout",
     "output_type": "stream",
     "text": [
      "{1, 2, 3, 4, 5, 40, 10, 50, 20, 30}\n"
     ]
    }
   ],
   "source": [
    "my_set1 = {10, 20, 30, 40, 50}\n",
    "my_set2 = {1, 2, 3, 4, 5}\n",
    "my_set3 = my_set1 | my_set2\n",
    "print(my_set3)"
   ]
  },
  {
   "cell_type": "markdown",
   "metadata": {},
   "source": [
    "### 05) WAP to check if two lists have at-least one element common."
   ]
  },
  {
   "cell_type": "code",
   "execution_count": 29,
   "metadata": {},
   "outputs": [
    {
     "name": "stdout",
     "output_type": "stream",
     "text": [
      "The lists have common elements: {5}\n"
     ]
    }
   ],
   "source": [
    "list1 = [1, 2, 3, 4, 5]\n",
    "list2 = [5, 6, 7, 8, 9]\n",
    "common = set(list1) & set(list2)\n",
    "if common:\n",
    "    print(\"The lists have common elements:\", common)\n",
    "else:\n",
    "    print(\"The lists have no common elements.\")\n"
   ]
  },
  {
   "cell_type": "markdown",
   "metadata": {},
   "source": [
    "### 06) WAP to remove duplicates from list."
   ]
  },
  {
   "cell_type": "code",
   "execution_count": 30,
   "metadata": {},
   "outputs": [
    {
     "name": "stdout",
     "output_type": "stream",
     "text": [
      "Original list: [1, 2, 2, 3, 4, 4, 5]\n",
      "List after removing duplicates: [1, 2, 3, 4, 5]\n"
     ]
    }
   ],
   "source": [
    "my_list = [1, 2, 2, 3, 4, 4, 5]\n",
    "unique_list = list(set(my_list))\n",
    "print(\"Original list:\", my_list)\n",
    "print(\"List after removing duplicates:\", unique_list)"
   ]
  },
  {
   "cell_type": "markdown",
   "metadata": {},
   "source": [
    "### 07) WAP to find unique words in the given string."
   ]
  },
  {
   "cell_type": "code",
   "execution_count": 32,
   "metadata": {},
   "outputs": [
    {
     "name": "stdout",
     "output_type": "stream",
     "text": [
      "Original string: hello world hello python world program\n",
      "Unique words: {'python', 'hello', 'world', 'program'}\n"
     ]
    }
   ],
   "source": [
    "input_string = \"hello world hello python world program\"\n",
    "words = input_string.split()\n",
    "unique_words = set(words)\n",
    "print(\"Original string:\", input_string)\n",
    "print(\"Unique words:\", unique_words)"
   ]
  },
  {
   "cell_type": "markdown",
   "metadata": {},
   "source": [
    "### 08) WAP to remove common elements of set A & B from set A."
   ]
  },
  {
   "cell_type": "code",
   "execution_count": 35,
   "metadata": {},
   "outputs": [
    {
     "name": "stdin",
     "output_type": "stream",
     "text": [
      "Enter elements of set A separated by space:  1 2 3 4 5\n",
      "Enter elements of set B separated by space:  5 6 7 8 9 \n"
     ]
    },
    {
     "name": "stdout",
     "output_type": "stream",
     "text": [
      "Set A after removing common elements: {1, 2, 3, 4}\n"
     ]
    }
   ],
   "source": [
    "def remove_common_elements(set_a, set_b):\n",
    "    return set_a - set_b\n",
    "set_a = set(map(int, input(\"Enter elements of set A separated by space: \").split()))\n",
    "set_b = set(map(int, input(\"Enter elements of set B separated by space: \").split()))\n",
    "set_a = remove_common_elements(set_a, set_b)\n",
    "print(\"Set A after removing common elements:\", set_a)"
   ]
  },
  {
   "cell_type": "markdown",
   "metadata": {},
   "source": [
    "### 09) WAP to check whether two given strings are anagram or not using set."
   ]
  },
  {
   "cell_type": "code",
   "execution_count": 1,
   "metadata": {},
   "outputs": [
    {
     "name": "stdin",
     "output_type": "stream",
     "text": [
      "Enter the first string:  samartgh\n",
      "Enter the second string:  samarth\n"
     ]
    },
    {
     "name": "stdout",
     "output_type": "stream",
     "text": [
      "The strings are not anagrams.\n"
     ]
    }
   ],
   "source": [
    "string1 = input(\"Enter the first string: \").replace(\" \", \"\").lower()\n",
    "string2 = input(\"Enter the second string: \").replace(\" \", \"\").lower()\n",
    "if set(string1) == set(string2) and len(string1) == len(string2):\n",
    "    print(\"The strings are anagrams.\")\n",
    "else:\n",
    "    print(\"The strings are not anagrams.\")"
   ]
  },
  {
   "cell_type": "markdown",
   "metadata": {},
   "source": [
    "### 10) WAP to find common elements in three lists using set."
   ]
  },
  {
   "cell_type": "code",
   "execution_count": 2,
   "metadata": {},
   "outputs": [
    {
     "name": "stdin",
     "output_type": "stream",
     "text": [
      "Enter elements of the first list separated by spaces:  1 2 3 4 5\n",
      "Enter elements of the second list separated by spaces:  6 7 8 9 0\n",
      "Enter elements of the third list separated by spaces:  1 3 5 7 9\n"
     ]
    },
    {
     "name": "stdout",
     "output_type": "stream",
     "text": [
      "Common elements in all three lists: []\n"
     ]
    }
   ],
   "source": [
    "list1 = list(map(int, input(\"Enter elements of the first list separated by spaces: \").split()))\n",
    "list2 = list(map(int, input(\"Enter elements of the second list separated by spaces: \").split()))\n",
    "list3 = list(map(int, input(\"Enter elements of the third list separated by spaces: \").split()))\n",
    "common_elements = set(list1) & set(list2) & set(list3)\n",
    "print(\"Common elements in all three lists:\", list(common_elements))"
   ]
  },
  {
   "cell_type": "markdown",
   "metadata": {},
   "source": [
    "### 11) WAP to count number of vowels in given string using set."
   ]
  },
  {
   "cell_type": "code",
   "execution_count": 3,
   "metadata": {},
   "outputs": [
    {
     "name": "stdin",
     "output_type": "stream",
     "text": [
      "Enter a string:  Samarth\n"
     ]
    },
    {
     "name": "stdout",
     "output_type": "stream",
     "text": [
      "Number of vowels in the string: 2\n"
     ]
    }
   ],
   "source": [
    "string = input(\"Enter a string: \").lower()\n",
    "vowels = {'a', 'e', 'i', 'o', 'u'}\n",
    "vowel_count = sum(1 for char in string if char in vowels)\n",
    "print(\"Number of vowels in the string:\", vowel_count)"
   ]
  },
  {
   "cell_type": "markdown",
   "metadata": {},
   "source": [
    "### 12) WAP to check if a given string is binary string or not."
   ]
  },
  {
   "cell_type": "code",
   "execution_count": 4,
   "metadata": {},
   "outputs": [
    {
     "name": "stdin",
     "output_type": "stream",
     "text": [
      "Enter a string:  samarth\n"
     ]
    },
    {
     "name": "stdout",
     "output_type": "stream",
     "text": [
      "The string is not a binary string.\n"
     ]
    }
   ],
   "source": [
    "string = input(\"Enter a string: \")\n",
    "binary_chars = {'0', '1'}\n",
    "if set(string).issubset(binary_chars):\n",
    "    print(\"The string is a binary string.\")\n",
    "else:\n",
    "    print(\"The string is not a binary string.\")\n"
   ]
  },
  {
   "cell_type": "markdown",
   "metadata": {},
   "source": [
    "### 13) WAP to sort dictionary by key or value."
   ]
  },
  {
   "cell_type": "code",
   "execution_count": 8,
   "metadata": {},
   "outputs": [
    {
     "name": "stdout",
     "output_type": "stream",
     "text": [
      "Dictionary sorted by keys: {'apple': 5, 'banana': 8, 'grape': 3, 'orange': 2}\n",
      "Dictionary sorted by values: {'orange': 2, 'grape': 3, 'apple': 5, 'banana': 8}\n"
     ]
    }
   ],
   "source": [
    "dictionary = {\n",
    "    \"apple\":5,\n",
    "    \"orange\":2,\n",
    "    \"banana\":8,\n",
    "    \"grape\":3\n",
    "}\n",
    "sorted_by_keys = dict(sorted(dictionary.items()))\n",
    "print(f\"Dictionary sorted by keys: {sorted_by_keys}\")\n",
    "\n",
    "sorted_by_values = dict(sorted(dictionary.items(), key=lambda item: item[1]))\n",
    "print(\"Dictionary sorted by values:\", sorted_by_values)"
   ]
  },
  {
   "cell_type": "markdown",
   "metadata": {},
   "source": [
    "### 14) WAP to find the sum of all items (values) in a dictionary given by user. (Assume: values are numeric)"
   ]
  },
  {
   "cell_type": "code",
   "execution_count": 12,
   "metadata": {},
   "outputs": [
    {
     "name": "stdin",
     "output_type": "stream",
     "text": [
      "Enter the number of key-value pairs:  2\n",
      "Enter key:  1\n",
      "Enter value (numeric):  1.1\n",
      "Enter key:  2\n",
      "Enter value (numeric):  1.2\n"
     ]
    },
    {
     "name": "stdout",
     "output_type": "stream",
     "text": [
      "The sum of all values in the dictionary is: 2.3\n"
     ]
    }
   ],
   "source": [
    "n = int(input(\"Enter the number of key-value pairs: \"))\n",
    "user_dict = {}\n",
    "for _ in range(n):\n",
    "    key = input(\"Enter key: \")\n",
    "    value = float(input(\"Enter value (numeric): \"))\n",
    "    user_dict[key] = value\n",
    "total_sum = sum(user_dict.values())\n",
    "print(\"The sum of all values in the dictionary is:\", total_sum)\n"
   ]
  },
  {
   "cell_type": "markdown",
   "metadata": {},
   "source": [
    "### 15) WAP to handle missing keys in dictionaries.\n",
    "#### Example : Given, dict1 = {'a': 5, 'c': 8, 'e': 2} \n",
    "#### if you look for key = 'd', the message given should be 'Key Not Found', otherwise print the value of 'd' in dict1."
   ]
  },
  {
   "cell_type": "code",
   "execution_count": 14,
   "metadata": {},
   "outputs": [
    {
     "name": "stdin",
     "output_type": "stream",
     "text": [
      "Enter the key to search:  d\n"
     ]
    },
    {
     "name": "stdout",
     "output_type": "stream",
     "text": [
      "Key Not Found\n"
     ]
    }
   ],
   "source": [
    "dict1 = {'a': 5, 'c': 8, 'e': 2}\n",
    "key = input(\"Enter the key to search: \")\n",
    "if key in dict1:\n",
    "    print(f\"The value of '{key}' in dict1 is: {dict1[key]}\")\n",
    "else:\n",
    "    print(\"Key Not Found\")"
   ]
  },
  {
   "cell_type": "code",
   "execution_count": null,
   "metadata": {},
   "outputs": [],
   "source": []
  }
 ],
 "metadata": {
  "kernelspec": {
   "display_name": "Python 3 (ipykernel)",
   "language": "python",
   "name": "python3"
  },
  "language_info": {
   "codemirror_mode": {
    "name": "ipython",
    "version": 3
   },
   "file_extension": ".py",
   "mimetype": "text/x-python",
   "name": "python",
   "nbconvert_exporter": "python",
   "pygments_lexer": "ipython3",
   "version": "3.12.7"
  }
 },
 "nbformat": 4,
 "nbformat_minor": 4
}
