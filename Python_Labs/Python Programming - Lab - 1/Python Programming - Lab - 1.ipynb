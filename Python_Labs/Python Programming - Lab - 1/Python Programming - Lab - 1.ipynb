{
 "cells": [
  {
   "cell_type": "markdown",
   "metadata": {},
   "source": [
    "<a href='https://www.darshan.ac.in/'> <img src='https://www.darshan.ac.in/Content/media/DU_Logo.svg' width=\"250\" height=\"10\"/></a>\n",
    "<pre>\n",
    "<center><b><h1>Python Programming - 2301CS404</b></center>\n",
    "<center><b><h1>Lab - 1</b></center>\n",
    "<center><b><h1>Samarth Mehta | 23010101167 | 02-12-2024</h1></b></center>\n",
    "<pre>"
   ]
  },
  {
   "cell_type": "markdown",
   "metadata": {},
   "source": [
    "### 01) WAP to print “Hello World”"
   ]
  },
  {
   "cell_type": "code",
   "execution_count": 5,
   "metadata": {},
   "outputs": [
    {
     "name": "stdout",
     "output_type": "stream",
     "text": [
      "Hello World\n"
     ]
    }
   ],
   "source": [
    "print(\"Hello World\")"
   ]
  },
  {
   "cell_type": "markdown",
   "metadata": {},
   "source": [
    "### 02) WAP to print addition of two numbers with and without using input()."
   ]
  },
  {
   "cell_type": "code",
   "execution_count": 6,
   "metadata": {},
   "outputs": [
    {
     "name": "stdout",
     "output_type": "stream",
     "text": [
      "5\n"
     ]
    }
   ],
   "source": [
    "a = 2\n",
    "b = 3\n",
    "c = a + b\n",
    "print(c)"
   ]
  },
  {
   "cell_type": "markdown",
   "metadata": {},
   "source": [
    "### 03) WAP to check the type of the variable."
   ]
  },
  {
   "cell_type": "code",
   "execution_count": 3,
   "metadata": {},
   "outputs": [
    {
     "name": "stdout",
     "output_type": "stream",
     "text": [
      "<class 'int'>\n"
     ]
    }
   ],
   "source": [
    "a = 2\n",
    "print(type(a))"
   ]
  },
  {
   "cell_type": "markdown",
   "metadata": {},
   "source": [
    "### 04) WAP to calculate simple interest."
   ]
  },
  {
   "cell_type": "code",
   "execution_count": 1,
   "metadata": {},
   "outputs": [
    {
     "name": "stdout",
     "output_type": "stream",
     "text": [
      "Enter P:  2\n",
      "Enter R:  2\n",
      "Enter N:  2\n"
     ]
    },
    {
     "name": "stdout",
     "output_type": "stream",
     "text": [
      "Simple Interset:  0.08\n"
     ]
    }
   ],
   "source": [
    "p = float(input(\"Enter P: \"))\n",
    "r = float(input(\"Enter R: \"))\n",
    "n = float(input(\"Enter N: \"))\n",
    "si = p*r*n/100\n",
    "print(\"Simple Interset: \", si)"
   ]
  },
  {
   "cell_type": "markdown",
   "metadata": {},
   "source": [
    "### 05) WAP to calculate area and perimeter of a circle."
   ]
  },
  {
   "cell_type": "code",
   "execution_count": null,
   "metadata": {},
   "outputs": [
    {
     "name": "stdout",
     "output_type": "stream",
     "text": [
      " 2.12\n",
      "Perimeter of the circle is:  13.313600000000001\n",
      "Area of the circle is:  14.112416000000001\n"
     ]
    },
    {
     "name": "stdout",
     "output_type": "stream",
     "text": [
      "Perimeter of the circle is:  13.313600000000001\n",
      "Area of the circle is:  14.112416000000001\n"
     ]
    }
   ],
   "source": [
    "r = float(input())\n",
    "perimeter = 2*3.14*r\n",
    "print(\"Perimeter of the circle is: \",perimeter)\n",
    "area = 3.14*r*r\n",
    "print(\"Area of the circle is: \", area)"
   ]
  },
  {
   "cell_type": "markdown",
   "metadata": {},
   "source": [
    "### 06) WAP to calculate area of a triangle."
   ]
  },
  {
   "cell_type": "code",
   "execution_count": 15,
   "metadata": {},
   "outputs": [],
   "source": [
    "b = float(input())\n",
    "h = float(input())\n",
    "aot = (0.5*(b*h))\n",
    "print(aot)"
   ]
  },
  {
   "cell_type": "markdown",
   "metadata": {},
   "source": [
    "### 07) WAP to compute quotient and remainder."
   ]
  },
  {
   "cell_type": "code",
   "execution_count": null,
   "metadata": {},
   "outputs": [],
   "source": []
  },
  {
   "cell_type": "markdown",
   "metadata": {},
   "source": [
    "### 08) WAP to convert degree into Fahrenheit and vice versa."
   ]
  },
  {
   "cell_type": "code",
   "execution_count": 7,
   "metadata": {},
   "outputs": [
    {
     "name": "stdout",
     "output_type": "stream",
     "text": [
      "enter the fahrenheit:  22\n"
     ]
    },
    {
     "name": "stdout",
     "output_type": "stream",
     "text": [
      "Fahrenheit to Celsius:  -5.555555555555555\n"
     ]
    },
    {
     "name": "stdout",
     "output_type": "stream",
     "text": [
      "enter the celsius:  33\n"
     ]
    },
    {
     "name": "stdout",
     "output_type": "stream",
     "text": [
      "Celsius to Fahrenheit:  91.4\n"
     ]
    }
   ],
   "source": [
    "fahrenheit = float(input(\"enter the fahrenheit: \"))\n",
    "con_f_c = float((fahrenheit - 32) * 5/9)\n",
    "print(\"Fahrenheit to Celsius: \", con_f_c)\n",
    "celsius = float(input(\"enter the celsius: \"))\n",
    "con_c_f = float((celsius * (9/5)) + 32)\n",
    "print(\"Celsius to Fahrenheit: \", con_c_f)"
   ]
  },
  {
   "cell_type": "markdown",
   "metadata": {},
   "source": [
    "### 09) WAP to find the distance between two points in 2-D space."
   ]
  },
  {
   "cell_type": "code",
   "execution_count": 12,
   "metadata": {},
   "outputs": [
    {
     "name": "stdout",
     "output_type": "stream",
     "text": [
      "Enter the coordinates of the first point:\n"
     ]
    },
    {
     "name": "stdout",
     "output_type": "stream",
     "text": [
      "x1:  22\n",
      "y1:  33\n",
      "z1:  11\n"
     ]
    },
    {
     "name": "stdout",
     "output_type": "stream",
     "text": [
      "Enter the coordinates of the second point:\n"
     ]
    },
    {
     "name": "stdout",
     "output_type": "stream",
     "text": [
      "x2:  11\n",
      "y2:  22\n",
      "z2:  33\n"
     ]
    },
    {
     "name": "stdout",
     "output_type": "stream",
     "text": [
      "Euclidean distance between the two points: 26.94438717061496\n"
     ]
    }
   ],
   "source": [
    "import math\n",
    "\n",
    "def calculate_euclidean_distance():\n",
    "    print(\"Enter the coordinates of the first point:\")\n",
    "    x1 = float(input(\"x1: \"))\n",
    "    y1 = float(input(\"y1: \"))\n",
    "    z1 = float(input(\"z1: \"))\n",
    "\n",
    "    print(\"Enter the coordinates of the second point:\")\n",
    "    x2 = float(input(\"x2: \"))\n",
    "    y2 = float(input(\"y2: \"))\n",
    "    z2 = float(input(\"z2: \"))\n",
    "\n",
    "    sqrs = (x1 - x2)**2 + (y1 - y2)**2 + (z1 - z2)**2\n",
    "    euc_dist = math.sqrt(sqrs)\n",
    "\n",
    "    print(\"Euclidean distance between the two points:\", euc_dist)\n",
    "\n",
    "calculate_euclidean_distance()\n"
   ]
  },
  {
   "cell_type": "markdown",
   "metadata": {},
   "source": [
    "### 10) WAP to print sum of n natural numbers."
   ]
  },
  {
   "cell_type": "code",
   "execution_count": 9,
   "metadata": {},
   "outputs": [
    {
     "name": "stdout",
     "output_type": "stream",
     "text": [
      "enter the number:  10\n"
     ]
    },
    {
     "name": "stdout",
     "output_type": "stream",
     "text": [
      "The sum is 55\n"
     ]
    }
   ],
   "source": [
    "number = int(input(\"enter the number: \"))\n",
    "if number<0:\n",
    "    print(\"enter the positve number: \")\n",
    "else:\n",
    "    sum = 0\n",
    "    while(number>0):\n",
    "        sum += number\n",
    "        number -= 1\n",
    "    print(\"The sum is\", sum)"
   ]
  },
  {
   "cell_type": "markdown",
   "metadata": {},
   "source": [
    "### 11) WAP to print sum of square of n natural numbers."
   ]
  },
  {
   "cell_type": "code",
   "execution_count": 10,
   "metadata": {},
   "outputs": [
    {
     "name": "stdout",
     "output_type": "stream",
     "text": [
      "Enter value of N:  33\n"
     ]
    },
    {
     "name": "stdout",
     "output_type": "stream",
     "text": [
      "Sum of squares = 12529\n"
     ]
    }
   ],
   "source": [
    "N = int(input(\"Enter value of N: \"))\n",
    "sumVal =  (int)( (N * (N+1) * ((2*N) + 1))/6 )\n",
    "print(\"Sum of squares =\",sumVal)"
   ]
  },
  {
   "cell_type": "markdown",
   "metadata": {},
   "source": [
    "### 12) WAP to concate the first and last name of the student."
   ]
  },
  {
   "cell_type": "code",
   "execution_count": null,
   "metadata": {},
   "outputs": [
    {
     "name": "stdout",
     "output_type": "stream",
     "text": [
      "SamarthMehta\n"
     ]
    }
   ],
   "source": [
    "a = \"Samarth\" + \"Mehta\"\n",
    "print(a)"
   ]
  },
  {
   "cell_type": "markdown",
   "metadata": {},
   "source": [
    "### 13) WAP to swap two numbers."
   ]
  },
  {
   "cell_type": "code",
   "execution_count": 3,
   "metadata": {},
   "outputs": [
    {
     "name": "stdout",
     "output_type": "stream",
     "text": [
      "Enter the num1 12\n",
      "Enter the num2 21\n"
     ]
    },
    {
     "name": "stdout",
     "output_type": "stream",
     "text": [
      "-------Before Swapping--------\n",
      "num1 and num2:  12 21\n",
      "-------After Swapping--------\n",
      "num1 and num2:  21 12\n"
     ]
    }
   ],
   "source": [
    "num1 = input(\"Enter the num1: \")\n",
    "num2 = input(\"Enter the num2: \")\n",
    "b_swap = print(\"-------Before Swapping--------\")\n",
    "print(\"num1 and num2: \", num1, num2)\n",
    "swap = num1\n",
    "num1 = num2\n",
    "num2 = swap\n",
    "a_swap = print(\"-------After Swapping--------\")\n",
    "print(\"num1 and num2: \", num1, num2)"
   ]
  },
  {
   "cell_type": "markdown",
   "metadata": {},
   "source": [
    "### 14) WAP to get the distance from user into kilometer, and convert it into meter, feet, inches and centimeter."
   ]
  },
  {
   "cell_type": "code",
   "execution_count": 13,
   "metadata": {},
   "outputs": [
    {
     "name": "stdout",
     "output_type": "stream",
     "text": [
      "Enter the distance in kilometers:  123\n"
     ]
    },
    {
     "name": "stdout",
     "output_type": "stream",
     "text": [
      "The distance in meters: 123000.0 m\n",
      "The distance in feet: 403543.32 ft\n",
      "The distance in inches: 4842522.3 in\n",
      "The distance in centimeters: 12300000.0 cm\n"
     ]
    }
   ],
   "source": [
    "kilometers = float(input(\"Enter the distance in kilometers: \"))\n",
    "\n",
    "meters = kilometers * 1000\n",
    "feet = kilometers * 3280.84\n",
    "inches = kilometers * 39370.1\n",
    "centimeters = kilometers * 100000\n",
    "\n",
    "print(f\"The distance in meters: {meters} m\")\n",
    "print(f\"The distance in feet: {feet} ft\")\n",
    "print(f\"The distance in inches: {inches} in\")\n",
    "print(f\"The distance in centimeters: {centimeters} cm\")\n"
   ]
  },
  {
   "cell_type": "markdown",
   "metadata": {},
   "source": [
    "### 15) WAP to get day, month and year from the user and print the date in the given format: 23-11-2024."
   ]
  },
  {
   "cell_type": "code",
   "execution_count": 14,
   "metadata": {},
   "outputs": [
    {
     "name": "stdout",
     "output_type": "stream",
     "text": [
      "Enter the day (DD):  22\n",
      "Enter the month (MM):  41\n",
      "Enter the year (YYYY):  2006\n"
     ]
    },
    {
     "name": "stdout",
     "output_type": "stream",
     "text": [
      "The date is: 22-41-2006\n"
     ]
    }
   ],
   "source": [
    "day = int(input(\"Enter the day (DD): \"))\n",
    "month = int(input(\"Enter the month (MM): \"))\n",
    "year = int(input(\"Enter the year (YYYY): \"))\n",
    "\n",
    "print(f\"The date is: {day:02d}-{month:02d}-{year}\")\n"
   ]
  }
 ],
 "metadata": {
  "kernelspec": {
   "display_name": "Python 3 (ipykernel)",
   "language": "python",
   "name": "python3"
  },
  "language_info": {
   "codemirror_mode": {
    "name": "ipython",
    "version": 3
   },
   "file_extension": ".py",
   "mimetype": "text/x-python",
   "name": "python",
   "nbconvert_exporter": "python",
   "pygments_lexer": "ipython3",
   "version": "3.12.7"
  }
 },
 "nbformat": 4,
 "nbformat_minor": 4
}
