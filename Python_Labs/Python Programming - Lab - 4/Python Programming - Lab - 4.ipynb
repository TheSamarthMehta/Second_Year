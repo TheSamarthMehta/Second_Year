{
 "cells": [
  {
   "cell_type": "markdown",
   "metadata": {},
   "source": [
    "\n",
    "<a href='https://www.darshan.ac.in/'> <img src='https://www.darshan.ac.in/Content/media/DU_Logo.svg' width=\"250\" height=\"300\"/></a>\n",
    "<pre>\n",
    "<center><b><h1>Python Programming - 2301CS404</b></center>\n",
    "<center><b><h1>Lab - 4</b></center>    \n",
    "<pre>"
   ]
  },
  {
   "cell_type": "markdown",
   "metadata": {},
   "source": [
    "# String"
   ]
  },
  {
   "cell_type": "markdown",
   "metadata": {},
   "source": [
    "### 01) WAP to check whether the given string is palindrome or not."
   ]
  },
  {
   "cell_type": "code",
   "execution_count": 3,
   "metadata": {},
   "outputs": [
    {
     "name": "stdin",
     "output_type": "stream",
     "text": [
      "Enter the String 121\n"
     ]
    },
    {
     "name": "stdout",
     "output_type": "stream",
     "text": [
      "121 is palindrome\n"
     ]
    }
   ],
   "source": [
    "str = input(\"Enter the String\")\n",
    "if(str==str[::-1]):\n",
    "    print(f'{str} is palindrome')\n",
    "else:\n",
    "    print(f'{str} is not palindrome')"
   ]
  },
  {
   "cell_type": "markdown",
   "metadata": {},
   "source": [
    "### 02) WAP to reverse the words in the given string."
   ]
  },
  {
   "cell_type": "code",
   "execution_count": 24,
   "metadata": {},
   "outputs": [
    {
     "name": "stdin",
     "output_type": "stream",
     "text": [
      "Enter the word:  samarth\n"
     ]
    },
    {
     "name": "stdout",
     "output_type": "stream",
     "text": [
      "htramas"
     ]
    }
   ],
   "source": [
    "str_length = input(\"Enter the word: \")\n",
    "for i in range(len(str_length) - 1, -1, -1):\n",
    "    print(f\"{str_length[i]}\", end=\"\")"
   ]
  },
  {
   "cell_type": "markdown",
   "metadata": {},
   "source": [
    "### 03) WAP to remove ith character from given string."
   ]
  },
  {
   "cell_type": "code",
   "execution_count": 34,
   "metadata": {},
   "outputs": [
    {
     "name": "stdin",
     "output_type": "stream",
     "text": [
      "Enter the String:  samarth\n",
      "Enter the index of the character to remove (0-based):  1\n"
     ]
    },
    {
     "name": "stdout",
     "output_type": "stream",
     "text": [
      "String after removing the character: smarth\n"
     ]
    }
   ],
   "source": [
    "str_input = input(\"Enter the String: \")\n",
    "index_to_remove = int(input(\"Enter the index of the character to remove (0-based): \"))\n",
    "if 0 <= index_to_remove < len(str_input):\n",
    "    result = str_input[:index_to_remove] + str_input[index_to_remove + 1:]\n",
    "    print(f'String after removing the character: {result}')\n",
    "else:\n",
    "    print(\"Error: Index out of range.\")"
   ]
  },
  {
   "cell_type": "markdown",
   "metadata": {},
   "source": [
    "### 04) WAP to find length of string without using len function."
   ]
  },
  {
   "cell_type": "code",
   "execution_count": 43,
   "metadata": {},
   "outputs": [
    {
     "name": "stdin",
     "output_type": "stream",
     "text": [
      "Enter the String:  meet\n"
     ]
    },
    {
     "name": "stdout",
     "output_type": "stream",
     "text": [
      "Length of the String is: 4\n"
     ]
    }
   ],
   "source": [
    "str_length = input(\"Enter the String: \")\n",
    "result = 0\n",
    "for i in str_length:\n",
    "    result += 1\n",
    "print(f'Length of the String is: {result}')"
   ]
  },
  {
   "cell_type": "markdown",
   "metadata": {},
   "source": [
    "### 05) WAP to print even length word in string."
   ]
  },
  {
   "cell_type": "code",
   "execution_count": 53,
   "metadata": {},
   "outputs": [
    {
     "name": "stdin",
     "output_type": "stream",
     "text": [
      "Enter the String:  i love pyhton\n"
     ]
    },
    {
     "name": "stdout",
     "output_type": "stream",
     "text": [
      "love\n",
      "pyhton\n"
     ]
    }
   ],
   "source": [
    "str_input = input(\"Enter the String: \")\n",
    "words = str_input.split()\n",
    "for char in words:\n",
    "    if len(char) % 2 == 0:\n",
    "        print(char)"
   ]
  },
  {
   "cell_type": "markdown",
   "metadata": {},
   "source": [
    "### 06) WAP to count numbers of vowels in given string."
   ]
  },
  {
   "cell_type": "code",
   "execution_count": 55,
   "metadata": {},
   "outputs": [
    {
     "name": "stdin",
     "output_type": "stream",
     "text": [
      "Enter the String:  123darshan\n"
     ]
    },
    {
     "name": "stdout",
     "output_type": "stream",
     "text": [
      "The String '123darshan' contains:\n",
      "Vowels: 2\n"
     ]
    }
   ],
   "source": [
    "str_input = input(\"Enter the String: \")\n",
    "vowel = 0\n",
    "vowels = \"aeiouAEIOU\"\n",
    "for char in str_input:\n",
    "    if char.isalpha():  # Check if the character is a letter\n",
    "        if char in vowels:\n",
    "            vowel += 1\n",
    "print(f\"The String '{str_input}' contains:\")\n",
    "print(f\"Vowels: {vowel}\")"
   ]
  },
  {
   "cell_type": "markdown",
   "metadata": {},
   "source": [
    "### 07) WAP to capitalize the first and last character of each word in a string."
   ]
  },
  {
   "cell_type": "code",
   "execution_count": 57,
   "metadata": {},
   "outputs": [
    {
     "name": "stdin",
     "output_type": "stream",
     "text": [
      "Enter the String:  samarth\n"
     ]
    },
    {
     "name": "stdout",
     "output_type": "stream",
     "text": [
      "Output String: SamartH\n"
     ]
    }
   ],
   "source": [
    "input_string = input(\"Enter the String: \")\n",
    "words = input_string.split()\n",
    "result = []\n",
    "for char in words:\n",
    "    if len(char) > 1:\n",
    "        new_word = char[0].upper() + char[1:-1] + char[-1].upper()\n",
    "    else:\n",
    "        new_word = char.upper()\n",
    "    result.append(new_word)\n",
    "output_string = ' '.join(result)\n",
    "print(f\"Output String: {output_string}\")"
   ]
  },
  {
   "cell_type": "markdown",
   "metadata": {},
   "source": [
    "### 08) WAP to convert given array to string."
   ]
  },
  {
   "cell_type": "code",
   "execution_count": 62,
   "metadata": {},
   "outputs": [
    {
     "name": "stdin",
     "output_type": "stream",
     "text": [
      "Enter the array elements separated by spaces:  meet\n"
     ]
    },
    {
     "name": "stdout",
     "output_type": "stream",
     "text": [
      "Converted String: 'meet'\n"
     ]
    }
   ],
   "source": [
    "array = input(\"Enter the array elements separated by spaces: \").split()\n",
    "result = \"\"\n",
    "for element in array:\n",
    "    result += element + \" \"\n",
    "result = result.strip()\n",
    "print(f\"Converted String: '{result}'\")"
   ]
  },
  {
   "cell_type": "markdown",
   "metadata": {},
   "source": [
    "### 09) Check if the password and confirm password is same or not. \n",
    "### In case of only case's mistake, show the error message."
   ]
  },
  {
   "cell_type": "code",
   "execution_count": 60,
   "metadata": {},
   "outputs": [
    {
     "name": "stdin",
     "output_type": "stream",
     "text": [
      "Enter the password:  Samarth@7676\n",
      "Enter the confirm password:  Samarth@6767\n"
     ]
    },
    {
     "name": "stdout",
     "output_type": "stream",
     "text": [
      "Passwords do not match.\n"
     ]
    }
   ],
   "source": [
    "password = input(\"Enter the password: \")\n",
    "confirm_password = input(\"Enter the confirm password: \")\n",
    "if password == confirm_password:\n",
    "    print(\"Passwords match.\")\n",
    "elif password.lower() == confirm_password.lower():\n",
    "    print(\"Passwords do not match. Hint: They differ only in case.\")\n",
    "else:\n",
    "    print(\"Passwords do not match.\")"
   ]
  },
  {
   "cell_type": "markdown",
   "metadata": {},
   "source": [
    "### 10) : Display credit card number. \n",
    "### card no. : 1234 5678 9012 3456\n",
    "### display as  : **** **** **** 3456"
   ]
  },
  {
   "cell_type": "code",
   "execution_count": 63,
   "metadata": {},
   "outputs": [
    {
     "name": "stdin",
     "output_type": "stream",
     "text": [
      "Enter the credit card number (e.g., 1234 5678 9012 3456):  12312 1212121 1212121 121212121\n"
     ]
    },
    {
     "name": "stdout",
     "output_type": "stream",
     "text": [
      "Masked Card Number: **** **** **** 121212121\n"
     ]
    }
   ],
   "source": [
    "card_number = input(\"Enter the credit card number (e.g., 1234 5678 9012 3456): \")\n",
    "card_groups = card_number.split()\n",
    "masked_groups = [\"****\"] * (len(card_groups) - 1) + [card_groups[-1]]\n",
    "masked_card = \" \".join(masked_groups)\n",
    "print(f\"Masked Card Number: {masked_card}\")"
   ]
  },
  {
   "cell_type": "markdown",
   "metadata": {},
   "source": [
    "### 11) : Checking if the two strings are Anagram or not.\n",
    "### s1 = decimal and s2 = medical are Anagram"
   ]
  },
  {
   "cell_type": "code",
   "execution_count": 65,
   "metadata": {},
   "outputs": [
    {
     "name": "stdin",
     "output_type": "stream",
     "text": [
      "Enter the first string:  samarth\n",
      "Enter the second string:  htramas\n"
     ]
    },
    {
     "name": "stdout",
     "output_type": "stream",
     "text": [
      "The strings are anagrams.\n"
     ]
    }
   ],
   "source": [
    "s1 = input(\"Enter the first string: \")\n",
    "s2 = input(\"Enter the second string: \")\n",
    "s1 = s1.replace(\" \", \"\").lower()\n",
    "s2 = s2.replace(\" \", \"\").lower()\n",
    "if sorted(s1) == sorted(s2):\n",
    "    print(\"The strings are anagrams.\")\n",
    "else:\n",
    "    print(\"The strings are not anagrams.\")"
   ]
  },
  {
   "cell_type": "markdown",
   "metadata": {},
   "source": [
    "### 12) : Rearrange the given string. First lowercase then uppercase alphabets.\n",
    "### input : EHlsarwiwhtwMV\n",
    "### output : lsarwiwhtwEHMV"
   ]
  },
  {
   "cell_type": "code",
   "execution_count": null,
   "metadata": {},
   "outputs": [],
   "source": []
  }
 ],
 "metadata": {
  "kernelspec": {
   "display_name": "Python 3 (ipykernel)",
   "language": "python",
   "name": "python3"
  },
  "language_info": {
   "codemirror_mode": {
    "name": "ipython",
    "version": 3
   },
   "file_extension": ".py",
   "mimetype": "text/x-python",
   "name": "python",
   "nbconvert_exporter": "python",
   "pygments_lexer": "ipython3",
   "version": "3.12.7"
  },
  "vscode": {
   "interpreter": {
    "hash": "31f2aee4e71d21fbe5cf8b01ff0e069b9275f58929596ceb00d14d90e3e16cd6"
   }
  }
 },
 "nbformat": 4,
 "nbformat_minor": 4
}
